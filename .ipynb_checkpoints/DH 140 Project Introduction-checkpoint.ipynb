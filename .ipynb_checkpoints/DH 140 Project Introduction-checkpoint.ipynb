{
 "cells": [
  {
   "cell_type": "code",
   "execution_count": 1,
   "id": "8d9816dc",
   "metadata": {},
   "outputs": [
    {
     "data": {
      "text/plain": [
       "'DH 140 Final Project:'"
      ]
     },
     "execution_count": 1,
     "metadata": {},
     "output_type": "execute_result"
    }
   ],
   "source": [
    "\"DH 140 Final Project:\""
   ]
  },
  {
   "cell_type": "code",
   "execution_count": 4,
   "id": "238a8418",
   "metadata": {},
   "outputs": [
    {
     "name": "stdout",
     "output_type": "stream",
     "text": [
      "Description of Data: I will be primarily focusing on 'Pride and Prejudice' by Jane Austen from Project Gutenberg.\n"
     ]
    }
   ],
   "source": [
    "print(\"Description of Data: I will be primarily focusing on 'Pride and Prejudice' by Jane Austen from Project Gutenberg.\")"
   ]
  },
  {
   "cell_type": "code",
   "execution_count": null,
   "id": "f3c2c9c7",
   "metadata": {},
   "outputs": [],
   "source": [
    "target_url = \"https://www.gutenberg.org/files/1342/1342-0.txt\"\n",
    "response = requests.get(target_url)\n",
    "pnp_string = response.text\n",
    "pnp_string = pnp_string.split('*** START OF THE PROJECT GUTENBERG EBOOK PRIDE AND PREJUDICE ***')[1]\n",
    "pnp_string = pnp_string.split('*** END OF THE PROJECT GUTENBERG EBOOK PRIDE AND PREJUDICE ***')[0]\n",
    "pnp_string = pnp_string.lower()"
   ]
  },
  {
   "cell_type": "code",
   "execution_count": 5,
   "id": "4d6e70d7",
   "metadata": {},
   "outputs": [
    {
     "name": "stdout",
     "output_type": "stream",
     "text": [
      "['i', 'me', 'my', 'myself', 'we', 'our', 'ours', 'ourselves', 'you', \"you're\", \"you've\", \"you'll\", \"you'd\", 'your', 'yours', 'yourself', 'yourselves', 'he', 'him', 'his', 'himself', 'she', \"she's\", 'her', 'hers', 'herself', 'it', \"it's\", 'its', 'itself', 'they', 'them', 'their', 'theirs', 'themselves', 'what', 'which', 'who', 'whom', 'this', 'that', \"that'll\", 'these', 'those', 'am', 'is', 'are', 'was', 'were', 'be', 'been', 'being', 'have', 'has', 'had', 'having', 'do', 'does', 'did', 'doing', 'a', 'an', 'the', 'and', 'but', 'if', 'or', 'because', 'as', 'until', 'while', 'of', 'at', 'by', 'for', 'with', 'about', 'against', 'between', 'into', 'through', 'during', 'before', 'after', 'above', 'below', 'to', 'from', 'up', 'down', 'in', 'out', 'on', 'off', 'over', 'under', 'again', 'further', 'then', 'once', 'here', 'there', 'when', 'where', 'why', 'how', 'all', 'any', 'both', 'each', 'few', 'more', 'most', 'other', 'some', 'such', 'no', 'nor', 'not', 'only', 'own', 'same', 'so', 'than', 'too', 'very', 's', 't', 'can', 'will', 'just', 'don', \"don't\", 'should', \"should've\", 'now', 'd', 'll', 'm', 'o', 're', 've', 'y', 'ain', 'aren', \"aren't\", 'couldn', \"couldn't\", 'didn', \"didn't\", 'doesn', \"doesn't\", 'hadn', \"hadn't\", 'hasn', \"hasn't\", 'haven', \"haven't\", 'isn', \"isn't\", 'ma', 'mightn', \"mightn't\", 'mustn', \"mustn't\", 'needn', \"needn't\", 'shan', \"shan't\", 'shouldn', \"shouldn't\", 'wasn', \"wasn't\", 'weren', \"weren't\", 'won', \"won't\", 'wouldn', \"wouldn't\"]\n"
     ]
    }
   ],
   "source": [
    "from string import punctuation\n",
    "stop = stopwords.words('english')\n",
    "print(stop)\n",
    "myStopWords = list(punctuation) + stopwords.words('english')\n",
    "sia = vader.SentimentIntensityAnalyzer()"
   ]
  },
  {
   "cell_type": "code",
   "execution_count": 6,
   "id": "bcdf1e26",
   "metadata": {},
   "outputs": [
    {
     "name": "stdout",
     "output_type": "stream",
     "text": [
      "My motivation with this project is to analyze the language and the sentiment of the various characters in Pride and Prejudice. I want to understand how much influence language and the sentiment have on the characters and the overall story.\n"
     ]
    }
   ],
   "source": [
    "print(\"My motivation with this project is to analyze the language and the sentiment of the various characters in Pride and Prejudice. I want to understand how much influence language and the sentiment have on the characters and the overall story.\")\n",
    "\n"
   ]
  },
  {
   "cell_type": "code",
   "execution_count": 7,
   "id": "b4e7c0bc",
   "metadata": {},
   "outputs": [],
   "source": [
    "# Questions:\n",
    "\n",
    "# A few questions that I hope to answer through my project are:\n",
    "\n",
    "# Which words appear frequently in Pride and Prejudice? \n",
    "# How does Elizabeth Bennet's and Mr. Darcy's relationship develop as the story progresses? \n",
    "# Why do different genders in Pride and Prejudice speak differently, and how does this effect the novel's overall tone and message? \n",
    "# What significant events cause shifts in how people feel in Pride and Prejudice, and what causes those shifts to occur? \n",
    "# How do the sentiments of Pride and Prejudice's various social classes vary? \n",
    "# How can certain words or word categories help to develop the ideas of Pride and Prejudice? \n",
    "# How does Pride and Prejudice's evolving main characters and their relationship with one another shape the novel's tone? \n",
    "# What are some similarities and differences in the language and emotion used by the various characters in Pride and Prejudice, and how do these elements develop over the novel?"
   ]
  },
  {
   "cell_type": "code",
   "execution_count": null,
   "id": "0f8f3eaf",
   "metadata": {},
   "outputs": [],
   "source": []
  }
 ],
 "metadata": {
  "kernelspec": {
   "display_name": "Python 3 (ipykernel)",
   "language": "python",
   "name": "python3"
  },
  "language_info": {
   "codemirror_mode": {
    "name": "ipython",
    "version": 3
   },
   "file_extension": ".py",
   "mimetype": "text/x-python",
   "name": "python",
   "nbconvert_exporter": "python",
   "pygments_lexer": "ipython3",
   "version": "3.10.8"
  }
 },
 "nbformat": 4,
 "nbformat_minor": 5
}
